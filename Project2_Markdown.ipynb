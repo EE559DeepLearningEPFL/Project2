{
 "cells": [
  {
   "cell_type": "markdown",
   "metadata": {},
   "source": [
    "# Project 2 - Markdown"
   ]
  },
  {
   "cell_type": "markdown",
   "metadata": {},
   "source": [
    "### class Module() - Sequential type\n",
    "\n",
    "**Parameters**\n",
    "\n",
    "- `self.layer_type`: specify the type of the layer, `'Sequential'`.\n",
    "\n",
    "- `self.layer_sequence`: initialized as \\[ \\]; list of layer modules (in order of appending).\n",
    "  \n",
    "- `self.dtype`: default `torch.float32`.\n",
    "\n",
    "- `self.device`: default **None**\n",
    "\n",
    "*Not used for 'Sequential' module*\n",
    "\n",
    "- `self.if_batchnorm`: if the layer should use batch normalization, **None** in Sequential module.\n",
    "\n",
    "- `self.activation_type`: specify the type of activation function, **None** in Sequential module.\n",
    "\n",
    "- `self.params_shape`: specify the shape of weights, **None** in Sequential module.\n",
    "\n",
    "- `self.params`: `{'weight', 'bias' }` after initialization.\n",
    "    \n",
    "- `self.bn_param`: parameters for batch normalization, dictionary.\n",
    "\n",
    "- `self.conv_param`: padding and stride step for Conv2d layer, dictionary.\n"
   ]
  },
  {
   "cell_type": "markdown",
   "metadata": {},
   "source": [
    "**Public Methods**\n",
    "\n",
    "- `print_module()`: print information of module, not implemented.\n",
    "\n",
    "- `append(Module)`: append an input layer module to the end of sequence.\n",
    "\n",
    "- `output, cache = forward(input, mode='train')`: same as in Linear, but use all layers in the sequence.\n",
    "    - `cache`: list of tuples/tensors, `[cache_layer_1, ..., cache_layer_N]`.\n",
    "\n",
    "\n",
    "- `loss, d_loss = loss(output, target, regularization)`: same as in Linear.\n",
    "\n",
    "- `d_input, d_params = backward(d_output, cache)`: backward pass, `d_loss` as `d_output`; all gradient are not averaged over the number of input samples.\n",
    "    - `d_params`: list of dictionary, `[d_params_1, ..., d_params_N]`;\n",
    "    - `d_params_i`: {`'d_weight'`, `'d_bias'`, `'d_gamma'`, `'d_beta'`}.\n",
    "\n",
    "\n",
    "- `update_params(d_params, learning_rate, regularization)`: update the parameters layer by layer."
   ]
  },
  {
   "cell_type": "markdown",
   "metadata": {},
   "source": [
    "**Private Methods**\n",
    "\n",
    "***layer level***\n",
    "- `output, cache = _sequential_forward(input, mode='train')`: \n",
    "\n",
    "- `d_input, d_params = _sequential_backward(d_output, cache)`: \n",
    "\n",
    "- `_sequential_update_params(d_params, learning_rate, regularization)`: \n",
    "\n",
    "- `_sequential_append(Module)`: \n"
   ]
  },
  {
   "cell_type": "code",
   "execution_count": null,
   "metadata": {},
   "outputs": [],
   "source": []
  },
  {
   "cell_type": "markdown",
   "metadata": {},
   "source": [
    "### class Module() - Single Linear layer type\n",
    "**Parameters**\n",
    "- `self.layer_type`: specify the type of the layer, `'Linear'`.\n",
    "\n",
    "- `self.if_batchnorm`: if the layer should use batch normalization, **True** or **False**.\n",
    "\n",
    "- `self.activation_type`: specify the type of activation function, **None** or `'relu'` or `'tanh'` or `'sigmoid'`.\n",
    "\n",
    "- `self.params_shape`: specify the shape of weights, `(dim_in, dim_out)` for `'Linear'`.\n",
    "\n",
    "- `self.params`: `{'weight', 'bias' }` after initialization.\n",
    "    - `'weight'`: at initialization, normal distribution, Size(dim_in, dim_out)\n",
    "    - `'bias'`: at initialization, normal distribution, Size(1, dim_out)\n",
    "    \n",
    "\n",
    "- `self.bn_param`: parameters for batch normalization, dictionary.\n",
    "    - `'eps'`: default 1e-5, to avoid dividing 0.\n",
    "    - `'momentum'`: default 0.9.\n",
    "    - `'if_initialized'`: if the bn_param is initialized w.r.t the input.\n",
    "    - `'gamma'`: \n",
    "    - `'beta'`: `gamma*input_normed + beta`\n",
    "    - `'running_mean'`: `momentum*running_mean + (1-momentum)*sample_mean`\n",
    "    - `'running_var'`: `momentum*running_var + (1-momentum)*sample_var`\n",
    "    \n",
    "    \n",
    "- `self.dtype`: default `torch.float32`.\n",
    "\n",
    "- `self.device`: default **None**\n",
    "\n",
    "*Not used for 'Linear' layer*\n",
    "- `self.conv_param`: padding and stride step for Conv2d layer, dictionary.\n",
    "\n",
    "- `self.layer_sequence`: \\[ \\]\n"
   ]
  },
  {
   "cell_type": "markdown",
   "metadata": {},
   "source": [
    "**Public Methods**\n",
    "\n",
    "- `print_module()`: print information of module, not implemented\n",
    "\n",
    "- `output, cache = forward(input, mode='train')`: forward pass, `mode` used for batchnorm; `cache` will be passed to backward method.\n",
    "\n",
    "- `loss, d_loss = loss(output, target, regularization)`: compute loss and the gradient of loss, d_loss will be passed to backward method; `loss, _ = loss(output, target, regularization)` for testing.\n",
    "\n",
    "- `d_input, d_params = backward(d_output, cache)`: backward pass, `d_loss` as `d_output`; all gradient are averaged over the number of input samples.\n",
    "    - `d_params`: dictionary, `'d_weight'`, `'d_bias'`, `'d_gamma'`, `'d_beta'`\n",
    "\n",
    "\n",
    "- `update_params(d_params, learning_rate, regularization)`: update the parameters by `W -= lr*dW + reg*(W*W)` and `b -= lr*db`, `gamma -= lr*d_gamma`, `beta -= lr*d_beta`."
   ]
  },
  {
   "cell_type": "markdown",
   "metadata": {},
   "source": [
    "**Private Methods**\n",
    "\n",
    "***layer level***\n",
    "- `output, cache = _layer_forward(input, mode='train')`: \n",
    "\n",
    "- `d_input, d_params = _layer_backward(d_output, cache)`: \n",
    "\n",
    "- `_layer_update_params(d_params, learning_rate, regularization)`: \n",
    "\n",
    "\n",
    "***Component level***\n",
    "\n",
    "*Linear*\n",
    "- `output, cache = _forward_Linear(input)`: \n",
    "\n",
    "- `d_input, d_params = _backward_Linear(d_output, cache)`: \n",
    "\n",
    "*Batchnorm*\n",
    "- `output, cache = _forward_batchnorm(input, mode)`: \n",
    "\n",
    "- `d_input, d_params = _backward_batchnorm(d_output, cache)`: \n",
    "\n",
    "*Activation*\n",
    "- `output, cache = _forward_sigmoid(input)`: \n",
    "\n",
    "- `d_input = _backward_sigmoid(d_output, cache)`: \n",
    "\n",
    "- `output, cache = _forward_tanh(input)`: \n",
    "\n",
    "- `d_input = _backward_tanh(d_output, cache)`: \n",
    "\n",
    "- `output, cache = _forward_relu(input)`: \n",
    "\n",
    "- `d_input = _backward_relu(d_output, cache)`: \n",
    "\n",
    "*Loss*\n",
    "- `loss = _compute_loss(output, target, regularization)`: \n",
    "\n",
    "- `d_loss = _compute_loss_gradient(output, target)`: \n",
    "\n",
    "- `reg_term = _compute_regularization_term(regularization)`: \n",
    "\n",
    "*Initialization* called in constructor\n",
    "- `_initialize_Linear()`: \n",
    "\n",
    "- `_activation_gain()`: \n",
    "\n",
    "- `_initialize_bn_param(input)`: \n"
   ]
  },
  {
   "cell_type": "markdown",
   "metadata": {},
   "source": [
    "***To be implemented***\n",
    "- All Conv2d related\n",
    "- All sequential related"
   ]
  },
  {
   "cell_type": "markdown",
   "metadata": {},
   "source": [
    "## Single Linear layer example"
   ]
  },
  {
   "cell_type": "code",
   "execution_count": 1,
   "metadata": {},
   "outputs": [],
   "source": [
    "import torch\n",
    "import math\n",
    "from layer_module import Module\n",
    "from neural_network import NeuralNet\n",
    "import matplotlib.pyplot as plt\n",
    "%matplotlib inline\n",
    "device = 'cuda:0'\n",
    "dtype = torch.float32"
   ]
  },
  {
   "cell_type": "code",
   "execution_count": 2,
   "metadata": {},
   "outputs": [
    {
     "name": "stdout",
     "output_type": "stream",
     "text": [
      "Input size: torch.Size([64, 2])  target size: torch.Size([64, 1])\n"
     ]
    }
   ],
   "source": [
    "nb=64\n",
    "data_input = torch.empty((nb, 2), dtype=dtype, device=device).uniform_(0, 1)\n",
    "data_target = ((data_input-0.5).norm(p=2, dim=1, keepdim=True)<math.sqrt(1/2/math.pi))*1\n",
    "print(\"Input size:\", data_input.size(), \" target size:\", data_target.size())\n",
    "lr = 4e-3\n",
    "reg = 0.1"
   ]
  },
  {
   "cell_type": "code",
   "execution_count": 3,
   "metadata": {},
   "outputs": [
    {
     "name": "stdout",
     "output_type": "stream",
     "text": [
      "self.params_shape is  (2, 1) , format (dim_in, dim_out)\n"
     ]
    }
   ],
   "source": [
    "mod2 = Module(layer_type='Linear', \n",
    "              if_batchnorm=False, \n",
    "              activation_type='relu', \n",
    "              params_shape=(2, 1), \n",
    "              dtype=dtype, device=device)"
   ]
  },
  {
   "cell_type": "code",
   "execution_count": 4,
   "metadata": {},
   "outputs": [
    {
     "name": "stdout",
     "output_type": "stream",
     "text": [
      "accuracy on training set is 0.609375\n"
     ]
    },
    {
     "data": {
      "image/png": "[encoded data removed]",
      "text/plain": [
       "<Figure size 432x288 with 1 Axes>"
      ]
     },
     "metadata": {
      "needs_background": "light"
     },
     "output_type": "display_data"
    }
   ],
   "source": [
    "loss_arr = []\n",
    "for i in range(30):\n",
    "    output, cache = mod2.forward(data_input, mode='train')\n",
    "    loss, d_loss = mod2.loss(output, data_target, reg)\n",
    "    # print(\"Loss is {:.3f}\".format(loss.item()))\n",
    "    loss_arr.append(loss.item())\n",
    "    d_output, d_params = mod2.backward(d_loss, cache)\n",
    "    mod2.update_params(d_params, lr, reg)\n",
    "    \n",
    "output, _ = mod2.forward(data_input, mode='test')\n",
    "print(\"accuracy on training set is\", torch.mean(1.0*((output>0.5)==data_target)).item())\n",
    "plt.plot(loss_arr)\n",
    "plt.show()"
   ]
  },
  {
   "cell_type": "markdown",
   "metadata": {},
   "source": [
    "## Sequential example (with only linear layers)"
   ]
  },
  {
   "cell_type": "code",
   "execution_count": 5,
   "metadata": {},
   "outputs": [
    {
     "name": "stdout",
     "output_type": "stream",
     "text": [
      "Input size: torch.Size([64, 2])  target size: torch.Size([64, 1])\n"
     ]
    }
   ],
   "source": [
    "nb=64\n",
    "data_input = torch.empty((nb, 2), dtype=dtype, device=device).uniform_(0, 1)\n",
    "data_target = ((data_input-0.5).norm(p=2, dim=1, keepdim=True)<math.sqrt(1/2/math.pi))*1\n",
    "print(\"Input size:\", data_input.size(), \" target size:\", data_target.size())\n",
    "lr = 7e-4\n",
    "reg = 0.0"
   ]
  },
  {
   "cell_type": "code",
   "execution_count": 6,
   "metadata": {},
   "outputs": [
    {
     "name": "stdout",
     "output_type": "stream",
     "text": [
      "self.params_shape is  (2, 100) , format (dim_in, dim_out)\n",
      "self.params_shape is  (100, 50) , format (dim_in, dim_out)\n",
      "self.params_shape is  (50, 20) , format (dim_in, dim_out)\n",
      "self.params_shape is  (20, 1) , format (dim_in, dim_out)\n"
     ]
    }
   ],
   "source": [
    "mod3 = Module(layer_type='Sequential', \n",
    "              dtype=dtype, device=device)\n",
    "mod3.append(Module(layer_type='Linear', \n",
    "              if_batchnorm=True, \n",
    "              activation_type='relu', \n",
    "              params_shape=(2, 100), \n",
    "              dtype=dtype, device=device))\n",
    "mod3.append(Module(layer_type='Linear', \n",
    "              if_batchnorm=True, \n",
    "              activation_type='relu', \n",
    "              params_shape=(100, 50), \n",
    "              dtype=dtype, device=device))\n",
    "mod3.append(Module(layer_type='Linear', \n",
    "              if_batchnorm=True, \n",
    "              activation_type='relu', \n",
    "              params_shape=(50, 20), \n",
    "              dtype=dtype, device=device))\n",
    "mod3.append(Module(layer_type='Linear', \n",
    "              if_batchnorm=False, \n",
    "              activation_type='relu', \n",
    "              params_shape=(20, 1), \n",
    "              dtype=dtype, device=device))"
   ]
  },
  {
   "cell_type": "code",
   "execution_count": 7,
   "metadata": {},
   "outputs": [
    {
     "name": "stdout",
     "output_type": "stream",
     "text": [
      "accuracy on training set is 0.96875\n"
     ]
    },
    {
     "data": {
      "image/png": "[encoded data removed]",
      "text/plain": [
       "<Figure size 432x288 with 1 Axes>"
      ]
     },
     "metadata": {
      "needs_background": "light"
     },
     "output_type": "display_data"
    }
   ],
   "source": [
    "loss_arr = []\n",
    "for i in range(30):\n",
    "    output, cache = mod3.forward(data_input, mode='train')\n",
    "    loss, d_loss = mod3.loss(output, data_target, reg)\n",
    "    # print(\"Loss is {:.3f}\".format(loss.item()))\n",
    "    loss_arr.append(loss.item())\n",
    "    d_input, d_params = mod3.backward(d_loss, cache)\n",
    "    # print(d_params)\n",
    "    mod3.update_params(d_params, lr, reg)\n",
    "    \n",
    "output, _ = mod3.forward(data_input, mode='test')\n",
    "print(\"accuracy on training set is\", torch.mean(1.0*((output>0.5)==data_target)).item())\n",
    "plt.plot(loss_arr)\n",
    "plt.show()"
   ]
  },
  {
   "cell_type": "markdown",
   "metadata": {},
   "source": [
    "## SGD (with mini_batch) example"
   ]
  },
  {
   "cell_type": "code",
   "execution_count": 64,
   "metadata": {},
   "outputs": [
    {
     "name": "stdout",
     "output_type": "stream",
     "text": [
      "Input size: torch.Size([1000, 2])  target size: torch.Size([1000, 1])\n"
     ]
    }
   ],
   "source": [
    "nb=1000\n",
    "data_input = torch.empty((nb, 2), dtype=dtype, device=device).uniform_(0, 1)\n",
    "data_target = ((data_input-0.5).norm(p=2, dim=1, keepdim=True)<math.sqrt(1/2/math.pi))*1\n",
    "print(\"Input size:\", data_input.size(), \" target size:\", data_target.size())"
   ]
  },
  {
   "cell_type": "code",
   "execution_count": 65,
   "metadata": {},
   "outputs": [
    {
     "data": {
      "image/png": "[encoded data removed]",
      "text/plain": [
       "<Figure size 360x360 with 1 Axes>"
      ]
     },
     "metadata": {
      "needs_background": "light"
     },
     "output_type": "display_data"
    },
    {
     "name": "stdout",
     "output_type": "stream",
     "text": [
      "Average of train_target==1 is 0.49800002574920654\n"
     ]
    }
   ],
   "source": [
    "fig, ax = plt.subplots(figsize=(5, 5))\n",
    "circ = plt.Circle((0.5, 0.5), math.sqrt(1/2/math.pi), fill=False)\n",
    "plt.scatter(data_input[:, 0].cpu(), data_input[:, 1].cpu())\n",
    "plt.xlabel('x0')\n",
    "plt.ylabel('x1')\n",
    "plt.title('Scatter of input')\n",
    "ax.add_patch(circ)\n",
    "plt.show()\n",
    "\n",
    "print('Average of train_target==1 is', torch.mean(data_target*1.0).item())\n",
    "# print('Average of test_target==1 is', torch.mean(test_target*1.0).item())"
   ]
  },
  {
   "cell_type": "code",
   "execution_count": 66,
   "metadata": {},
   "outputs": [
    {
     "name": "stdout",
     "output_type": "stream",
     "text": [
      "self.params_shape is  (2, 100) , format (dim_in, dim_out)\n",
      "self.params_shape is  (100, 50) , format (dim_in, dim_out)\n",
      "self.params_shape is  (50, 20) , format (dim_in, dim_out)\n",
      "self.params_shape is  (20, 1) , format (dim_in, dim_out)\n"
     ]
    }
   ],
   "source": [
    "net1 = NeuralNet(layer_type='Sequential', learning_rate=2e-3, \n",
    "                 regularization=0.05, epoch=1000, batch_size=64,\n",
    "                 dtype=dtype, device=device)\n",
    "net1.append(Module(layer_type='Linear', \n",
    "              if_batchnorm=True, \n",
    "              activation_type='relu', \n",
    "              params_shape=(2, 100), \n",
    "              dtype=dtype, device=device))\n",
    "net1.append(Module(layer_type='Linear', \n",
    "              if_batchnorm=True, \n",
    "              activation_type='relu', \n",
    "              params_shape=(100, 50), \n",
    "              dtype=dtype, device=device))\n",
    "net1.append(Module(layer_type='Linear', \n",
    "              if_batchnorm=True, \n",
    "              activation_type='relu', \n",
    "              params_shape=(50, 20), \n",
    "              dtype=dtype, device=device))\n",
    "net1.append(Module(layer_type='Linear', \n",
    "              if_batchnorm=False, \n",
    "              activation_type='relu', \n",
    "              params_shape=(20, 1), \n",
    "              dtype=dtype, device=device))"
   ]
  },
  {
   "cell_type": "code",
   "execution_count": 67,
   "metadata": {},
   "outputs": [],
   "source": [
    "loss_arr = net1.train(data_input, data_target)"
   ]
  },
  {
   "cell_type": "code",
   "execution_count": 68,
   "metadata": {},
   "outputs": [
    {
     "data": {
      "image/png": "[encoded data removed]",
      "text/plain": [
       "<Figure size 504x288 with 1 Axes>"
      ]
     },
     "metadata": {
      "needs_background": "light"
     },
     "output_type": "display_data"
    },
    {
     "name": "stdout",
     "output_type": "stream",
     "text": [
      "accuracy on training set is 0.7390000224113464\n"
     ]
    }
   ],
   "source": [
    "plt.figure(figsize=(7, 4))\n",
    "plt.plot(loss_arr)\n",
    "plt.xlabel('epoch')\n",
    "plt.ylabel('Loss')\n",
    "plt.show()\n",
    "output, _ = net1.forward(data_input, mode='test')\n",
    "print(\"accuracy on training set is\", torch.mean(1.0*((output>0.5)==data_target)).item())"
   ]
  },
  {
   "cell_type": "code",
   "execution_count": 69,
   "metadata": {},
   "outputs": [
    {
     "name": "stdout",
     "output_type": "stream",
     "text": [
      "accuracy on testing set is 0.7400000095367432\n"
     ]
    }
   ],
   "source": [
    "test_input = torch.empty((nb, 2), dtype=dtype, device=device).uniform_(0, 1)\n",
    "test_target = ((test_input-0.5).norm(p=2, dim=1, keepdim=True)<math.sqrt(1/2/math.pi))*1\n",
    "output, _ = net1.forward(test_input, mode='test')\n",
    "print(\"accuracy on testing set is\", torch.mean(1.0*((output>0.5)==test_target)).item())"
   ]
  },
  {
   "cell_type": "code",
   "execution_count": null,
   "metadata": {},
   "outputs": [],
   "source": []
  }
 ],
 "metadata": {
  "kernelspec": {
   "display_name": "Python [conda env:pytorch_gpu]",
   "language": "python",
   "name": "conda-env-pytorch_gpu-py"
  },
  "language_info": {
   "codemirror_mode": {
    "name": "ipython",
    "version": 3
   },
   "file_extension": ".py",
   "mimetype": "text/x-python",
   "name": "python",
   "nbconvert_exporter": "python",
   "pygments_lexer": "ipython3",
   "version": "3.7.9"
  },
  "widgets": {
   "application/vnd.jupyter.widget-state+json": {
    "state": {},
    "version_major": 2,
    "version_minor": 0
   }
  }
 },
 "nbformat": 4,
 "nbformat_minor": 4
}
